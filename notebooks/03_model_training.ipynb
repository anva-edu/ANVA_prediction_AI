{
 "cells": [
  {
   "cell_type": "markdown",
   "id": "fb1d5656",
   "metadata": {},
   "source": [
    "# 🤖 Step 3: Model Training and Evaluation\n",
    "\n",
    "Goal: Train ML models on student performance data and select the best one.\n",
    "\n",
    "**Tasks:**\n",
    "1. Load training and testing data from `data/processed/`.\n",
    "2. Train the following models:\n",
    "   - Linear Regression\n",
    "   - Random Forest Regressor\n",
    "   - XGBoost Regressor (optional)\n",
    "3. Evaluate using:\n",
    "   - Mean Absolute Error (MAE)\n",
    "   - Root Mean Squared Error (RMSE)\n",
    "   - R-squared (R² Score)\n",
    "4. Compare performance across models.\n",
    "5. Select and save the best model to `models/best_model.pkl`.\n",
    "\n",
    "**Bonus:**\n",
    "- Use joblib or pickle for saving the model.\n",
    "- Include visualizations like predicted vs actual scatter plots.\n"
   ]
  },
  {
   "cell_type": "code",
   "execution_count": null,
   "id": "006f2d78",
   "metadata": {},
   "outputs": [
    {
     "name": "stdout",
     "output_type": "stream",
     "text": [
      "Requirement already satisfied: pandas in /Users/abdulkadir/Library/Python/3.10/lib/python/site-packages (2.3.1)\n",
      "Requirement already satisfied: matplotlib in /Users/abdulkadir/Library/Python/3.10/lib/python/site-packages (3.10.3)\n",
      "Requirement already satisfied: numpy>=1.22.4 in /Users/abdulkadir/Library/Python/3.10/lib/python/site-packages (from pandas) (2.2.6)\n",
      "Requirement already satisfied: python-dateutil>=2.8.2 in /Users/abdulkadir/Library/Python/3.10/lib/python/site-packages (from pandas) (2.9.0.post0)\n",
      "Requirement already satisfied: pytz>=2020.1 in /Users/abdulkadir/Library/Python/3.10/lib/python/site-packages (from pandas) (2025.2)\n",
      "Requirement already satisfied: tzdata>=2022.7 in /Users/abdulkadir/Library/Python/3.10/lib/python/site-packages (from pandas) (2025.2)\n",
      "Requirement already satisfied: contourpy>=1.0.1 in /Users/abdulkadir/Library/Python/3.10/lib/python/site-packages (from matplotlib) (1.3.2)\n",
      "Requirement already satisfied: cycler>=0.10 in /Users/abdulkadir/Library/Python/3.10/lib/python/site-packages (from matplotlib) (0.12.1)\n",
      "Requirement already satisfied: fonttools>=4.22.0 in /Users/abdulkadir/Library/Python/3.10/lib/python/site-packages (from matplotlib) (4.59.0)\n",
      "Requirement already satisfied: kiwisolver>=1.3.1 in /Users/abdulkadir/Library/Python/3.10/lib/python/site-packages (from matplotlib) (1.4.8)\n",
      "Requirement already satisfied: packaging>=20.0 in /opt/homebrew/lib/python3.10/site-packages (from matplotlib) (24.2)\n",
      "Requirement already satisfied: pillow>=8 in /Users/abdulkadir/Library/Python/3.10/lib/python/site-packages (from matplotlib) (11.3.0)\n",
      "Requirement already satisfied: pyparsing>=2.3.1 in /Users/abdulkadir/Library/Python/3.10/lib/python/site-packages (from matplotlib) (3.2.3)\n",
      "Requirement already satisfied: six>=1.5 in /opt/homebrew/lib/python3.10/site-packages (from python-dateutil>=2.8.2->pandas) (1.17.0)\n",
      "\n",
      "\u001b[1m[\u001b[0m\u001b[34;49mnotice\u001b[0m\u001b[1;39;49m]\u001b[0m\u001b[39;49m A new release of pip is available: \u001b[0m\u001b[31;49m24.3.1\u001b[0m\u001b[39;49m -> \u001b[0m\u001b[32;49m25.1.1\u001b[0m\n",
      "\u001b[1m[\u001b[0m\u001b[34;49mnotice\u001b[0m\u001b[1;39;49m]\u001b[0m\u001b[39;49m To update, run: \u001b[0m\u001b[32;49mpython3.10 -m pip install --upgrade pip\u001b[0m\n",
      "\n",
      "\u001b[1m[\u001b[0m\u001b[34;49mnotice\u001b[0m\u001b[1;39;49m]\u001b[0m\u001b[39;49m A new release of pip is available: \u001b[0m\u001b[31;49m24.3.1\u001b[0m\u001b[39;49m -> \u001b[0m\u001b[32;49m25.1.1\u001b[0m\n",
      "\u001b[1m[\u001b[0m\u001b[34;49mnotice\u001b[0m\u001b[1;39;49m]\u001b[0m\u001b[39;49m To update, run: \u001b[0m\u001b[32;49mpython3.10 -m pip install --upgrade pip\u001b[0m\n",
      "Note: you may need to restart the kernel to use updated packages.\n",
      "Note: you may need to restart the kernel to use updated packages.\n"
     ]
    }
   ],
   "source": [
    "# 1. Import required libraries\n",
    "import pandas as pd\n",
    "import numpy as np\n",
    "import matplotlib.pyplot as plt\n",
    "from sklearn.linear_model import LinearRegression\n",
    "from sklearn.ensemble import RandomForestRegressor\n",
    "from sklearn.metrics import mean_absolute_error, mean_squared_error, r2_score\n",
    "import joblib\n",
    "import os\n",
    "try:\n",
    "    from xgboost import XGBRegressor\n",
    "    xgb_installed = True\n",
    "except ImportError:\n",
    "    xgb_installed = False\n",
    "    print('XGBoost not installed, skipping XGBoost Regressor.')"
   ]
  },
  {
   "cell_type": "code",
   "execution_count": 26,
   "id": "fa2ef899",
   "metadata": {},
   "outputs": [
    {
     "name": "stdout",
     "output_type": "stream",
     "text": [
      "Data loaded.\n",
      "X_train shape: (316, 41)\n",
      "y_train shape: (316,)\n"
     ]
    }
   ],
   "source": [
    "# 2. Load training and testing data\n",
    "X_train = pd.read_csv('../data/processed/X_train.csv')\n",
    "X_test = pd.read_csv('../data/processed/X_test.csv')\n",
    "y_train = pd.read_csv('../data/processed/y_train.csv').squeeze()\n",
    "y_test = pd.read_csv('../data/processed/y_test.csv').squeeze()\n",
    "print('Data loaded.')\n",
    "print('X_train shape:', X_train.shape)\n",
    "print('y_train shape:', y_train.shape)"
   ]
  },
  {
   "cell_type": "code",
   "execution_count": 27,
   "id": "24029743",
   "metadata": {},
   "outputs": [
    {
     "name": "stdout",
     "output_type": "stream",
     "text": [
      "\n",
      "Training Linear Regression...\n",
      "Linear Regression - MAE: 1.647, RMSE: 2.378, R2: 0.724\n",
      "\n",
      "Training Random Forest...\n",
      "Random Forest - MAE: 1.181, RMSE: 1.957, R2: 0.813\n",
      "\n",
      "Training XGBoost...\n",
      "Random Forest - MAE: 1.181, RMSE: 1.957, R2: 0.813\n",
      "\n",
      "Training XGBoost...\n",
      "XGBoost - MAE: 1.196, RMSE: 2.133, R2: 0.778\n",
      "XGBoost - MAE: 1.196, RMSE: 2.133, R2: 0.778\n"
     ]
    }
   ],
   "source": [
    "# 3. Train and evaluate models\n",
    "results = {}\n",
    "models = {\n",
    "    'Linear Regression': LinearRegression(),\n",
    "    'Random Forest': RandomForestRegressor(random_state=42)\n",
    "}\n",
    "if xgb_installed:\n",
    "    models['XGBoost'] = XGBRegressor(random_state=42)\n",
    "\n",
    "for name, model in models.items():\n",
    "    print(f'\\nTraining {name}...')\n",
    "    model.fit(X_train, y_train)\n",
    "    y_pred = model.predict(X_test)\n",
    "    mae = mean_absolute_error(y_test, y_pred)\n",
    "    # Compute RMSE manually for compatibility\n",
    "    rmse = np.sqrt(mean_squared_error(y_test, y_pred))\n",
    "    r2 = r2_score(y_test, y_pred)\n",
    "    results[name] = {'model': model, 'MAE': mae, 'RMSE': rmse, 'R2': r2, 'y_pred': y_pred}\n",
    "    print(f'{name} - MAE: {mae:.3f}, RMSE: {rmse:.3f}, R2: {r2:.3f}')"
   ]
  },
  {
   "cell_type": "code",
   "execution_count": 28,
   "id": "b896aa33",
   "metadata": {},
   "outputs": [
    {
     "name": "stdout",
     "output_type": "stream",
     "text": [
      "\n",
      "Model Performance Summary:\n",
      "                        MAE      RMSE        R2\n",
      "Linear Regression  1.646666  2.378370  0.724134\n",
      "Random Forest      1.180506  1.957487  0.813131\n",
      "XGBoost            1.196146  2.133497  0.778015\n",
      "\n",
      "Best model: Random Forest\n",
      "Best model saved to ../models/best_model.pkl\n"
     ]
    }
   ],
   "source": [
    "# 4. Compare performance and select the best model\n",
    "import numpy as np\n",
    "\n",
    "# Create a summary DataFrame\n",
    "summary = pd.DataFrame({k: {'MAE': v['MAE'], 'RMSE': v['RMSE'], 'R2': v['R2']} for k, v in results.items()}).T\n",
    "print('\\nModel Performance Summary:')\n",
    "print(summary)\n",
    "\n",
    "# Select the best model (lowest RMSE)\n",
    "best_model_name = summary['RMSE'].idxmin()\n",
    "best_model = results[best_model_name]['model']\n",
    "print(f'\\nBest model: {best_model_name}')\n",
    "\n",
    "# Save the best model\n",
    "os.makedirs('../models', exist_ok=True)\n",
    "joblib.dump(best_model, '../models/best_model.pkl')\n",
    "print('Best model saved to ../models/best_model.pkl')"
   ]
  }
 ],
 "metadata": {
  "language_info": {
   "name": "python"
  }
 },
 "nbformat": 4,
 "nbformat_minor": 5
}
