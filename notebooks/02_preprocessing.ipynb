{
 "cells": [
  {
   "cell_type": "markdown",
   "id": "2c21964b",
   "metadata": {},
   "source": [
    "# 🧹 Step 2: Data Preprocessing\n",
    "\n",
    "Goal: Prepare the dataset for machine learning.\n",
    "\n",
    "**Tasks:**\n",
    "1. Load cleaned student dataset from `data/processed/student.csv` (or raw if not yet processed).\n",
    "2. Handle missing values (drop or impute).\n",
    "3. Encode categorical variables (LabelEncoder or OneHotEncoder).\n",
    "4. Normalize numerical features (MinMaxScaler or StandardScaler).\n",
    "5. Separate features (X) and target (y = G3).\n",
    "6. Split into training and testing sets (e.g., 80/20).\n",
    "\n",
    "**Bonus:**\n",
    "- Save the processed data to `data/processed/`.\n",
    "- Include comments for each block of code.\n"
   ]
  },
  {
   "cell_type": "code",
   "execution_count": 1,
   "id": "cbba7933",
   "metadata": {},
   "outputs": [],
   "source": [
    "# 1. Import required libraries\n",
    "import pandas as pd\n",
    "import numpy as np\n",
    "from sklearn.model_selection import train_test_split\n",
    "from sklearn.preprocessing import LabelEncoder, OneHotEncoder, MinMaxScaler, StandardScaler\n",
    "import os"
   ]
  },
  {
   "cell_type": "code",
   "execution_count": 2,
   "id": "ec31aa2f",
   "metadata": {},
   "outputs": [
    {
     "name": "stdout",
     "output_type": "stream",
     "text": [
      "Loaded raw dataset.\n",
      "Columns: ['school', 'sex', 'age', 'address', 'famsize', 'Pstatus', 'Medu', 'Fedu', 'Mjob', 'Fjob', 'reason', 'guardian', 'traveltime', 'studytime', 'failures', 'schoolsup', 'famsup', 'paid', 'activities', 'nursery', 'higher', 'internet', 'romantic', 'famrel', 'freetime', 'goout', 'Dalc', 'Walc', 'health', 'absences', 'G1', 'G2', 'G3']\n",
      "  school sex  age address famsize Pstatus  Medu  Fedu     Mjob      Fjob  ...  \\\n",
      "0     GP   F   18       U     GT3       A     4     4  at_home   teacher  ...   \n",
      "1     GP   F   17       U     GT3       T     1     1  at_home     other  ...   \n",
      "2     GP   F   15       U     LE3       T     1     1  at_home     other  ...   \n",
      "3     GP   F   15       U     GT3       T     4     2   health  services  ...   \n",
      "4     GP   F   16       U     GT3       T     3     3    other     other  ...   \n",
      "\n",
      "  famrel freetime  goout  Dalc  Walc health absences  G1  G2  G3  \n",
      "0      4        3      4     1     1      3        6   5   6   6  \n",
      "1      5        3      3     1     1      3        4   5   5   6  \n",
      "2      4        3      2     2     3      3       10   7   8  10  \n",
      "3      3        2      2     1     1      5        2  15  14  15  \n",
      "4      4        3      2     1     2      5        4   6  10  10  \n",
      "\n",
      "[5 rows x 33 columns]\n"
     ]
    }
   ],
   "source": [
    "# 2. Load the dataset (prefer processed, fallback to raw)\n",
    "processed_path = '../data/processed/student.csv'\n",
    "raw_path = '../data/raw/student-mat.csv'\n",
    "\n",
    "if os.path.exists(processed_path):\n",
    "    df = pd.read_csv(processed_path)\n",
    "    print('Loaded processed dataset.')\n",
    "else:\n",
    "    try:\n",
    "        df = pd.read_csv(raw_path)\n",
    "        if 'G1' not in df.columns:\n",
    "            raise ValueError('G1 not found, trying semicolon delimiter')\n",
    "    except Exception:\n",
    "        df = pd.read_csv(raw_path, delimiter=';')\n",
    "    print('Loaded raw dataset.')\n",
    "print('Columns:', df.columns.tolist())\n",
    "print(df.head())"
   ]
  },
  {
   "cell_type": "code",
   "execution_count": 3,
   "id": "a413be7c",
   "metadata": {},
   "outputs": [
    {
     "name": "stdout",
     "output_type": "stream",
     "text": [
      "No missing values found.\n"
     ]
    }
   ],
   "source": [
    "# 3. Handle missing values (drop or impute)\n",
    "# For simplicity, drop rows with missing values\n",
    "missing = df.isnull().sum().sum()\n",
    "if missing > 0:\n",
    "    print(f'Dropping {missing} missing values.')\n",
    "    df = df.dropna()\n",
    "else:\n",
    "    print('No missing values found.')"
   ]
  },
  {
   "cell_type": "code",
   "execution_count": 4,
   "id": "04c72031",
   "metadata": {},
   "outputs": [
    {
     "name": "stdout",
     "output_type": "stream",
     "text": [
      "Categorical variables encoded.\n",
      "   age  Medu  Fedu  traveltime  studytime  failures  famrel  freetime  goout  \\\n",
      "0   18     4     4           2          2         0       4         3      4   \n",
      "1   17     1     1           1          2         0       5         3      3   \n",
      "2   15     1     1           1          2         3       4         3      2   \n",
      "3   15     4     2           1          3         0       3         2      2   \n",
      "4   16     3     3           1          2         0       4         3      2   \n",
      "\n",
      "   Dalc  ...  guardian_mother  guardian_other  schoolsup_yes  famsup_yes  \\\n",
      "0     1  ...             True           False           True       False   \n",
      "1     1  ...            False           False          False        True   \n",
      "2     2  ...             True           False           True       False   \n",
      "3     1  ...             True           False          False        True   \n",
      "4     1  ...            False           False          False        True   \n",
      "\n",
      "   paid_yes  activities_yes  nursery_yes  higher_yes  internet_yes  \\\n",
      "0     False           False         True        True         False   \n",
      "1     False           False        False        True          True   \n",
      "2      True           False         True        True          True   \n",
      "3      True            True         True        True          True   \n",
      "4      True           False         True        True         False   \n",
      "\n",
      "   romantic_yes  \n",
      "0         False  \n",
      "1         False  \n",
      "2         False  \n",
      "3          True  \n",
      "4         False  \n",
      "\n",
      "[5 rows x 42 columns]\n"
     ]
    }
   ],
   "source": [
    "# 4. Encode categorical variables (OneHotEncoder for non-numeric columns except target)\n",
    "categorical_cols = df.select_dtypes(include=['object']).columns.tolist()\n",
    "if 'G3' in categorical_cols:\n",
    "    categorical_cols.remove('G3')\n",
    "df_encoded = pd.get_dummies(df, columns=categorical_cols, drop_first=True)\n",
    "print('Categorical variables encoded.')\n",
    "print(df_encoded.head())"
   ]
  },
  {
   "cell_type": "code",
   "execution_count": 5,
   "id": "848a2761",
   "metadata": {},
   "outputs": [
    {
     "name": "stdout",
     "output_type": "stream",
     "text": [
      "Numerical features normalized.\n",
      "        age      Medu      Fedu  traveltime  studytime  failures    famrel  \\\n",
      "0  1.023046  1.143856  1.360371    0.792251  -0.042286 -0.449944  0.062194   \n",
      "1  0.238380 -1.600009 -1.399970   -0.643249  -0.042286 -0.449944  1.178860   \n",
      "2 -1.330954 -1.600009 -1.399970   -0.643249  -0.042286  3.589323  0.062194   \n",
      "3 -1.330954  1.143856 -0.479857   -0.643249   1.150779 -0.449944 -1.054472   \n",
      "4 -0.546287  0.229234  0.440257   -0.643249  -0.042286 -0.449944  0.062194   \n",
      "\n",
      "   freetime     goout      Dalc  ...  guardian_mother  guardian_other  \\\n",
      "0 -0.236010  0.801479 -0.540699  ...             True           False   \n",
      "1 -0.236010 -0.097908 -0.540699  ...            False           False   \n",
      "2 -0.236010 -0.997295  0.583385  ...             True           False   \n",
      "3 -1.238419 -0.997295 -0.540699  ...             True           False   \n",
      "4 -0.236010 -0.997295 -0.540699  ...            False           False   \n",
      "\n",
      "   schoolsup_yes  famsup_yes  paid_yes  activities_yes  nursery_yes  \\\n",
      "0           True       False     False           False         True   \n",
      "1          False        True     False           False        False   \n",
      "2           True       False      True           False         True   \n",
      "3          False        True      True            True         True   \n",
      "4          False        True      True           False         True   \n",
      "\n",
      "   higher_yes  internet_yes  romantic_yes  \n",
      "0        True         False         False  \n",
      "1        True          True         False  \n",
      "2        True          True         False  \n",
      "3        True          True          True  \n",
      "4        True         False         False  \n",
      "\n",
      "[5 rows x 42 columns]\n"
     ]
    }
   ],
   "source": [
    "# 5. Normalize numerical features (excluding the target G3)\n",
    "scaler = StandardScaler()\n",
    "numeric_cols = df_encoded.select_dtypes(include='number').columns.tolist()\n",
    "numeric_cols.remove('G3')\n",
    "df_encoded[numeric_cols] = scaler.fit_transform(df_encoded[numeric_cols])\n",
    "print('Numerical features normalized.')\n",
    "print(df_encoded.head())"
   ]
  },
  {
   "cell_type": "code",
   "execution_count": 6,
   "id": "f70a966c",
   "metadata": {},
   "outputs": [
    {
     "name": "stdout",
     "output_type": "stream",
     "text": [
      "Features and target separated.\n",
      "X shape: (395, 41)\n",
      "y shape: (395,)\n"
     ]
    }
   ],
   "source": [
    "# 6. Separate features (X) and target (y = G3)\n",
    "X = df_encoded.drop('G3', axis=1)\n",
    "y = df_encoded['G3']\n",
    "print('Features and target separated.')\n",
    "print('X shape:', X.shape)\n",
    "print('y shape:', y.shape)"
   ]
  },
  {
   "cell_type": "code",
   "execution_count": 7,
   "id": "1837d412",
   "metadata": {},
   "outputs": [
    {
     "name": "stdout",
     "output_type": "stream",
     "text": [
      "Data split into training and testing sets.\n",
      "X_train shape: (316, 41)\n",
      "X_test shape: (79, 41)\n"
     ]
    }
   ],
   "source": [
    "# 7. Split into training and testing sets (80/20)\n",
    "X_train, X_test, y_train, y_test = train_test_split(X, y, test_size=0.2, random_state=42)\n",
    "print('Data split into training and testing sets.')\n",
    "print('X_train shape:', X_train.shape)\n",
    "print('X_test shape:', X_test.shape)"
   ]
  },
  {
   "cell_type": "code",
   "execution_count": 8,
   "id": "4ba3fe19",
   "metadata": {},
   "outputs": [
    {
     "name": "stdout",
     "output_type": "stream",
     "text": [
      "Processed data saved to data/processed/.\n"
     ]
    }
   ],
   "source": [
    "# 8. Save the processed data to data/processed/\n",
    "X_train.to_csv('../data/processed/X_train.csv', index=False)\n",
    "X_test.to_csv('../data/processed/X_test.csv', index=False)\n",
    "y_train.to_csv('../data/processed/y_train.csv', index=False)\n",
    "y_test.to_csv('../data/processed/y_test.csv', index=False)\n",
    "print('Processed data saved to data/processed/.')"
   ]
  }
 ],
 "metadata": {
  "kernelspec": {
   "display_name": "Python 3",
   "language": "python",
   "name": "python3"
  },
  "language_info": {
   "codemirror_mode": {
    "name": "ipython",
    "version": 3
   },
   "file_extension": ".py",
   "mimetype": "text/x-python",
   "name": "python",
   "nbconvert_exporter": "python",
   "pygments_lexer": "ipython3",
   "version": "3.10.16"
  }
 },
 "nbformat": 4,
 "nbformat_minor": 5
}
